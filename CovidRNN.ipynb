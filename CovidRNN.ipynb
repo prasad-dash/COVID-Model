{
  "nbformat": 4,
  "nbformat_minor": 0,
  "metadata": {
    "colab": {
      "name": "CovidRNN.ipynb",
      "provenance": [],
      "collapsed_sections": [],
      "authorship_tag": "ABX9TyMMdD4AU6kAxz2AnEMGyMoh",
      "include_colab_link": true
    },
    "kernelspec": {
      "name": "python3",
      "display_name": "Python 3"
    },
    "language_info": {
      "name": "python"
    },
    "accelerator": "GPU"
  },
  "cells": [
    {
      "cell_type": "markdown",
      "metadata": {
        "id": "view-in-github",
        "colab_type": "text"
      },
      "source": [
        "<a href=\"https://colab.research.google.com/github/prasad-dash/COVID-Model/blob/main/CovidRNN.ipynb\" target=\"_parent\"><img src=\"https://colab.research.google.com/assets/colab-badge.svg\" alt=\"Open In Colab\"/></a>"
      ]
    },
    {
      "cell_type": "code",
      "metadata": {
        "id": "IUo0chOnERS0"
      },
      "source": [
        "import numpy as np \n",
        "import pandas as pd \n",
        "import matplotlib.pyplot as plt \n",
        "import tensorflow as tf\n",
        "from sklearn import preprocessing\n"
      ],
      "execution_count": null,
      "outputs": []
    },
    {
      "cell_type": "code",
      "metadata": {
        "id": "D_ZFGdUKE6b0"
      },
      "source": [
        "dataset=pd.read_csv(\"/content/COVID-19 Cases(18-04-2021).csv\")\n",
        "datasetIN=dataset[dataset['Region']=='India']"
      ],
      "execution_count": null,
      "outputs": []
    },
    {
      "cell_type": "code",
      "metadata": {
        "colab": {
          "base_uri": "https://localhost:8080/"
        },
        "id": "fu1-3x6xFA4k",
        "outputId": "e43268bb-c7ee-4103-eee4-405e4506f981"
      },
      "source": [
        "X=datasetIN.iloc[:,4].values\n",
        "iShape=X.shape\n",
        "print(iShape)\n",
        "X=X.reshape(393,1)\n",
        "print(X.max(),X.min())\n",
        "Scaler=preprocessing.StandardScaler()\n",
        "Xsc=Scaler.fit_transform(X)\n",
        "Xsc=Xsc.reshape(iShape)\n",
        "print(Xsc.shape)\n",
        "DataLen=len(Xsc)\n",
        "print(DataLen)"
      ],
      "execution_count": null,
      "outputs": [
        {
          "output_type": "stream",
          "text": [
            "(393,)\n",
            "1569743.0 71.0\n",
            "(393,)\n",
            "393\n"
          ],
          "name": "stdout"
        }
      ]
    },
    {
      "cell_type": "code",
      "metadata": {
        "colab": {
          "base_uri": "https://localhost:8080/"
        },
        "id": "vTPLu8WqRknR",
        "outputId": "68e89ff9-44e2-4e4d-9d69-5489d1d1ec23"
      },
      "source": [
        "Xsc.max()"
      ],
      "execution_count": null,
      "outputs": [
        {
          "output_type": "execute_result",
          "data": {
            "text/plain": [
              "3.6970384322808507"
            ]
          },
          "metadata": {
            "tags": []
          },
          "execution_count": 28
        }
      ]
    },
    {
      "cell_type": "code",
      "metadata": {
        "id": "XIjBjIE5FEd1"
      },
      "source": [
        "X_train=[]\n",
        "y_train=[]\n",
        "for i in range(10,DataLen):\n",
        "    temp=Xsc[i-10:i]\n",
        "    X_train.append(temp)\n",
        "    y_train.append(Xsc[i])\n",
        "X_train=np.array(X_train)\n",
        "y_train=np.array(y_train)"
      ],
      "execution_count": null,
      "outputs": []
    },
    {
      "cell_type": "code",
      "metadata": {
        "id": "4S4La6WZIpRr"
      },
      "source": [
        "X_train=X_train.reshape(len(X_train),10,1)"
      ],
      "execution_count": null,
      "outputs": []
    },
    {
      "cell_type": "code",
      "metadata": {
        "colab": {
          "base_uri": "https://localhost:8080/"
        },
        "id": "WFoMKsmvFGKK",
        "outputId": "e0634996-fee7-4867-92f8-aa3de8d5d775"
      },
      "source": [
        "model=tf.keras.models.Sequential()\n",
        "model.add(tf.keras.layers.LSTM(1000,activation='relu',return_sequences=True,input_shape=(X_train.shape[1],1)))\n",
        "model.add(tf.keras.layers.Dropout(0.2))\n",
        "model.add(tf.keras.layers.LSTM(1000,return_sequences=True))\n",
        "model.add(tf.keras.layers.Dropout(0.2))\n",
        "model.add(tf.keras.layers.LSTM(1000,return_sequences=True))\n",
        "model.add(tf.keras.layers.Dropout(0.2))\n",
        "model.add(tf.keras.layers.LSTM(1000,return_sequences=True))\n",
        "model.add(tf.keras.layers.Dropout(0.2))\n",
        "model.add(tf.keras.layers.LSTM(1,return_sequences=False))\n"
      ],
      "execution_count": null,
      "outputs": [
        {
          "output_type": "stream",
          "text": [
            "WARNING:tensorflow:Layer lstm_5 will not use cuDNN kernel since it doesn't meet the cuDNN kernel criteria. It will use generic GPU kernel as fallback when running on GPU\n"
          ],
          "name": "stdout"
        }
      ]
    },
    {
      "cell_type": "code",
      "metadata": {
        "colab": {
          "base_uri": "https://localhost:8080/"
        },
        "id": "aSF3XzbeF-zj",
        "outputId": "11a63a66-31d0-431f-e8e0-377a955edc07"
      },
      "source": [
        "model.summary()"
      ],
      "execution_count": null,
      "outputs": [
        {
          "output_type": "stream",
          "text": [
            "Model: \"sequential_1\"\n",
            "_________________________________________________________________\n",
            "Layer (type)                 Output Shape              Param #   \n",
            "=================================================================\n",
            "lstm_5 (LSTM)                (None, 10, 1000)          4008000   \n",
            "_________________________________________________________________\n",
            "dropout_4 (Dropout)          (None, 10, 1000)          0         \n",
            "_________________________________________________________________\n",
            "lstm_6 (LSTM)                (None, 10, 1000)          8004000   \n",
            "_________________________________________________________________\n",
            "dropout_5 (Dropout)          (None, 10, 1000)          0         \n",
            "_________________________________________________________________\n",
            "lstm_7 (LSTM)                (None, 10, 1000)          8004000   \n",
            "_________________________________________________________________\n",
            "dropout_6 (Dropout)          (None, 10, 1000)          0         \n",
            "_________________________________________________________________\n",
            "lstm_8 (LSTM)                (None, 10, 1000)          8004000   \n",
            "_________________________________________________________________\n",
            "dropout_7 (Dropout)          (None, 10, 1000)          0         \n",
            "_________________________________________________________________\n",
            "lstm_9 (LSTM)                (None, 1)                 4008      \n",
            "=================================================================\n",
            "Total params: 28,024,008\n",
            "Trainable params: 28,024,008\n",
            "Non-trainable params: 0\n",
            "_________________________________________________________________\n"
          ],
          "name": "stdout"
        }
      ]
    },
    {
      "cell_type": "code",
      "metadata": {
        "id": "mwQOLrTwGy1m"
      },
      "source": [
        "model.compile(optimizer=\"adam\",loss=tf.keras.losses.MeanSquaredError())"
      ],
      "execution_count": null,
      "outputs": []
    },
    {
      "cell_type": "code",
      "metadata": {
        "colab": {
          "base_uri": "https://localhost:8080/"
        },
        "id": "dwo0VmxmMmKu",
        "outputId": "01e72279-ac7a-4eaf-b314-ea369a156f78"
      },
      "source": [
        "model.fit(X_train,y_train,epochs=100)"
      ],
      "execution_count": null,
      "outputs": [
        {
          "output_type": "stream",
          "text": [
            "Epoch 1/100\n",
            "12/12 [==============================] - 6s 50ms/step - loss: 0.5739\n",
            "Epoch 2/100\n",
            "12/12 [==============================] - 1s 43ms/step - loss: 0.2847\n",
            "Epoch 3/100\n",
            "12/12 [==============================] - 1s 43ms/step - loss: 0.2377\n",
            "Epoch 4/100\n",
            "12/12 [==============================] - 1s 44ms/step - loss: 0.2076\n",
            "Epoch 5/100\n",
            "12/12 [==============================] - 1s 46ms/step - loss: 0.1544\n",
            "Epoch 6/100\n",
            "12/12 [==============================] - 1s 43ms/step - loss: 0.1336\n",
            "Epoch 7/100\n",
            "12/12 [==============================] - 1s 43ms/step - loss: 0.1444\n",
            "Epoch 8/100\n",
            "12/12 [==============================] - 1s 43ms/step - loss: 0.1342\n",
            "Epoch 9/100\n",
            "12/12 [==============================] - 1s 42ms/step - loss: 0.1652\n",
            "Epoch 10/100\n",
            "12/12 [==============================] - 1s 43ms/step - loss: 0.1641\n",
            "Epoch 11/100\n",
            "12/12 [==============================] - 1s 43ms/step - loss: 0.1395\n",
            "Epoch 12/100\n",
            "12/12 [==============================] - 1s 44ms/step - loss: 0.1282\n",
            "Epoch 13/100\n",
            "12/12 [==============================] - 1s 44ms/step - loss: 0.1971\n",
            "Epoch 14/100\n",
            "12/12 [==============================] - 1s 44ms/step - loss: 0.1242\n",
            "Epoch 15/100\n",
            "12/12 [==============================] - 1s 43ms/step - loss: 0.1173\n",
            "Epoch 16/100\n",
            "12/12 [==============================] - 1s 43ms/step - loss: 0.1499\n",
            "Epoch 17/100\n",
            "12/12 [==============================] - 1s 41ms/step - loss: 0.1042\n",
            "Epoch 18/100\n",
            "12/12 [==============================] - 1s 43ms/step - loss: 0.1311\n",
            "Epoch 19/100\n",
            "12/12 [==============================] - 1s 42ms/step - loss: 0.0988\n",
            "Epoch 20/100\n",
            "12/12 [==============================] - 1s 43ms/step - loss: 0.1440\n",
            "Epoch 21/100\n",
            "12/12 [==============================] - 1s 45ms/step - loss: 0.1934\n",
            "Epoch 22/100\n",
            "12/12 [==============================] - 1s 43ms/step - loss: 0.1120\n",
            "Epoch 23/100\n",
            "12/12 [==============================] - 1s 43ms/step - loss: 0.1944\n",
            "Epoch 24/100\n",
            "12/12 [==============================] - 1s 42ms/step - loss: 0.1164\n",
            "Epoch 25/100\n",
            "12/12 [==============================] - 1s 43ms/step - loss: 0.1578\n",
            "Epoch 26/100\n",
            "12/12 [==============================] - 1s 43ms/step - loss: 0.1298\n",
            "Epoch 27/100\n",
            "12/12 [==============================] - 1s 43ms/step - loss: 0.1387\n",
            "Epoch 28/100\n",
            "12/12 [==============================] - 1s 42ms/step - loss: 0.1489\n",
            "Epoch 29/100\n",
            "12/12 [==============================] - 1s 42ms/step - loss: 0.1231\n",
            "Epoch 30/100\n",
            "12/12 [==============================] - 0s 42ms/step - loss: 0.1602\n",
            "Epoch 31/100\n",
            "12/12 [==============================] - 1s 42ms/step - loss: 0.1699\n",
            "Epoch 32/100\n",
            "12/12 [==============================] - 1s 43ms/step - loss: 0.1672\n",
            "Epoch 33/100\n",
            "12/12 [==============================] - 1s 43ms/step - loss: 0.1183\n",
            "Epoch 34/100\n",
            "12/12 [==============================] - 1s 43ms/step - loss: 0.1673\n",
            "Epoch 35/100\n",
            "12/12 [==============================] - 1s 42ms/step - loss: 0.1289\n",
            "Epoch 36/100\n",
            "12/12 [==============================] - 1s 43ms/step - loss: 0.1586\n",
            "Epoch 37/100\n",
            "12/12 [==============================] - 0s 41ms/step - loss: 0.1154\n",
            "Epoch 38/100\n",
            "12/12 [==============================] - 1s 43ms/step - loss: 0.1537\n",
            "Epoch 39/100\n",
            "12/12 [==============================] - 1s 42ms/step - loss: 0.1676\n",
            "Epoch 40/100\n",
            "12/12 [==============================] - 0s 42ms/step - loss: 0.1444\n",
            "Epoch 41/100\n",
            "12/12 [==============================] - 0s 42ms/step - loss: 0.1183\n",
            "Epoch 42/100\n",
            "12/12 [==============================] - 1s 43ms/step - loss: 0.1643\n",
            "Epoch 43/100\n",
            "12/12 [==============================] - 1s 43ms/step - loss: 0.1341\n",
            "Epoch 44/100\n",
            "12/12 [==============================] - 1s 43ms/step - loss: 0.1854\n",
            "Epoch 45/100\n",
            "12/12 [==============================] - 1s 42ms/step - loss: 0.1105\n",
            "Epoch 46/100\n",
            "12/12 [==============================] - 1s 43ms/step - loss: 0.1121\n",
            "Epoch 47/100\n",
            "12/12 [==============================] - 1s 43ms/step - loss: 0.1739\n",
            "Epoch 48/100\n",
            "12/12 [==============================] - 1s 43ms/step - loss: 0.1696\n",
            "Epoch 49/100\n",
            "12/12 [==============================] - 1s 44ms/step - loss: 0.1237\n",
            "Epoch 50/100\n",
            "12/12 [==============================] - 1s 44ms/step - loss: 0.1398\n",
            "Epoch 51/100\n",
            "12/12 [==============================] - 1s 43ms/step - loss: 0.1748\n",
            "Epoch 52/100\n",
            "12/12 [==============================] - 1s 43ms/step - loss: 0.1220\n",
            "Epoch 53/100\n",
            "12/12 [==============================] - 0s 41ms/step - loss: 0.1290\n",
            "Epoch 54/100\n",
            "12/12 [==============================] - 1s 45ms/step - loss: 0.1280\n",
            "Epoch 55/100\n",
            "12/12 [==============================] - 1s 42ms/step - loss: 0.1216\n",
            "Epoch 56/100\n",
            "12/12 [==============================] - 0s 41ms/step - loss: 0.1132\n",
            "Epoch 57/100\n",
            "12/12 [==============================] - 1s 43ms/step - loss: 0.1336\n",
            "Epoch 58/100\n",
            "12/12 [==============================] - 1s 43ms/step - loss: 0.1189\n",
            "Epoch 59/100\n",
            "12/12 [==============================] - 1s 43ms/step - loss: 0.1373\n",
            "Epoch 60/100\n",
            "12/12 [==============================] - 1s 43ms/step - loss: 0.1776\n",
            "Epoch 61/100\n",
            "12/12 [==============================] - 0s 42ms/step - loss: 0.1163\n",
            "Epoch 62/100\n",
            "12/12 [==============================] - 0s 41ms/step - loss: 0.1631\n",
            "Epoch 63/100\n",
            "12/12 [==============================] - 1s 43ms/step - loss: 0.1060\n",
            "Epoch 64/100\n",
            "12/12 [==============================] - 0s 42ms/step - loss: 0.1715\n",
            "Epoch 65/100\n",
            "12/12 [==============================] - 0s 42ms/step - loss: 0.1360\n",
            "Epoch 66/100\n",
            "12/12 [==============================] - 1s 42ms/step - loss: 0.1278\n",
            "Epoch 67/100\n",
            "12/12 [==============================] - 1s 43ms/step - loss: 0.1385\n",
            "Epoch 68/100\n",
            "12/12 [==============================] - 1s 43ms/step - loss: 0.0988\n",
            "Epoch 69/100\n",
            "12/12 [==============================] - 1s 43ms/step - loss: 0.1532\n",
            "Epoch 70/100\n",
            "12/12 [==============================] - 1s 42ms/step - loss: 0.1316\n",
            "Epoch 71/100\n",
            "12/12 [==============================] - 1s 45ms/step - loss: 0.1003\n",
            "Epoch 72/100\n",
            "12/12 [==============================] - 1s 42ms/step - loss: 0.1341\n",
            "Epoch 73/100\n",
            "12/12 [==============================] - 1s 42ms/step - loss: 0.1665\n",
            "Epoch 74/100\n",
            "12/12 [==============================] - 1s 44ms/step - loss: 0.1311\n",
            "Epoch 75/100\n",
            "12/12 [==============================] - 1s 43ms/step - loss: 0.1678\n",
            "Epoch 76/100\n",
            "12/12 [==============================] - 1s 44ms/step - loss: 0.1924\n",
            "Epoch 77/100\n",
            "12/12 [==============================] - 1s 43ms/step - loss: 0.1686\n",
            "Epoch 78/100\n",
            "12/12 [==============================] - 1s 43ms/step - loss: 0.1599\n",
            "Epoch 79/100\n",
            "12/12 [==============================] - 1s 43ms/step - loss: 0.1120\n",
            "Epoch 80/100\n",
            "12/12 [==============================] - 1s 42ms/step - loss: 0.1221\n",
            "Epoch 81/100\n",
            "12/12 [==============================] - 1s 44ms/step - loss: 0.1412\n",
            "Epoch 82/100\n",
            "12/12 [==============================] - 1s 44ms/step - loss: 0.1195\n",
            "Epoch 83/100\n",
            "12/12 [==============================] - 1s 42ms/step - loss: 0.1311\n",
            "Epoch 84/100\n",
            "12/12 [==============================] - 1s 43ms/step - loss: 0.1854\n",
            "Epoch 85/100\n",
            "12/12 [==============================] - 1s 42ms/step - loss: 0.1301\n",
            "Epoch 86/100\n",
            "12/12 [==============================] - 1s 43ms/step - loss: 0.1211\n",
            "Epoch 87/100\n",
            "12/12 [==============================] - 1s 44ms/step - loss: 0.1780\n",
            "Epoch 88/100\n",
            "12/12 [==============================] - 1s 45ms/step - loss: 0.1288\n",
            "Epoch 89/100\n",
            "12/12 [==============================] - 1s 42ms/step - loss: 0.1610\n",
            "Epoch 90/100\n",
            "12/12 [==============================] - 1s 42ms/step - loss: 0.1151\n",
            "Epoch 91/100\n",
            "12/12 [==============================] - 1s 42ms/step - loss: 0.1480\n",
            "Epoch 92/100\n",
            "12/12 [==============================] - 1s 44ms/step - loss: 0.1283\n",
            "Epoch 93/100\n",
            "12/12 [==============================] - 1s 43ms/step - loss: 0.1034\n",
            "Epoch 94/100\n",
            "12/12 [==============================] - 1s 46ms/step - loss: 0.0948\n",
            "Epoch 95/100\n",
            "12/12 [==============================] - 1s 44ms/step - loss: 0.1270\n",
            "Epoch 96/100\n",
            "12/12 [==============================] - 1s 42ms/step - loss: 0.0778\n",
            "Epoch 97/100\n",
            "12/12 [==============================] - 1s 43ms/step - loss: 0.1461\n",
            "Epoch 98/100\n",
            "12/12 [==============================] - 1s 42ms/step - loss: 0.1217\n",
            "Epoch 99/100\n",
            "12/12 [==============================] - 1s 44ms/step - loss: 0.1135\n",
            "Epoch 100/100\n",
            "12/12 [==============================] - 1s 43ms/step - loss: 0.0933\n"
          ],
          "name": "stdout"
        },
        {
          "output_type": "execute_result",
          "data": {
            "text/plain": [
              "<tensorflow.python.keras.callbacks.History at 0x7ff65e3b7450>"
            ]
          },
          "metadata": {
            "tags": []
          },
          "execution_count": 34
        }
      ]
    },
    {
      "cell_type": "code",
      "metadata": {
        "id": "h7TD5lS1SWSx"
      },
      "source": [
        "model.save('/content/CovidRNN.h5')"
      ],
      "execution_count": null,
      "outputs": []
    },
    {
      "cell_type": "code",
      "metadata": {
        "id": "bThAtCs4Muwr"
      },
      "source": [
        "inputEle=Xsc[-11:-1]"
      ],
      "execution_count": null,
      "outputs": []
    },
    {
      "cell_type": "code",
      "metadata": {
        "id": "t3GlAuS0Nz9I"
      },
      "source": [
        "inputEle=inputEle.reshape(1,10,1)"
      ],
      "execution_count": null,
      "outputs": []
    },
    {
      "cell_type": "code",
      "metadata": {
        "colab": {
          "base_uri": "https://localhost:8080/"
        },
        "id": "bEBBhhmpOZiI",
        "outputId": "2c6e2644-c962-455b-de45-68072e7864e5"
      },
      "source": [
        "model.predict(inputEle)"
      ],
      "execution_count": null,
      "outputs": [
        {
          "output_type": "execute_result",
          "data": {
            "text/plain": [
              "array([[0.99999714]], dtype=float32)"
            ]
          },
          "metadata": {
            "tags": []
          },
          "execution_count": 59
        }
      ]
    },
    {
      "cell_type": "code",
      "metadata": {
        "colab": {
          "base_uri": "https://localhost:8080/"
        },
        "id": "SdhxoH_6OqWt",
        "outputId": "13cae64d-d14d-41ac-a794-9d136e6769ba"
      },
      "source": [
        "Scaler.inverse_transform(model.predict(inputEle))"
      ],
      "execution_count": null,
      "outputs": [
        {
          "output_type": "execute_result",
          "data": {
            "text/plain": [
              "array([[701040.4]], dtype=float32)"
            ]
          },
          "metadata": {
            "tags": []
          },
          "execution_count": 60
        }
      ]
    },
    {
      "cell_type": "code",
      "metadata": {
        "id": "fg7n_4aLP7qc"
      },
      "source": [
        "np.reshape(X,(393,))"
      ],
      "execution_count": null,
      "outputs": []
    },
    {
      "cell_type": "code",
      "metadata": {
        "id": "Nt4GX83LTAq5"
      },
      "source": [
        "y=[]\n",
        "for i in range(10,393):\n",
        "    temp=Xsc[i-10:i]\n",
        "    temp=temp.reshape(1,10,1)\n",
        "    y.append(Scaler.inverse_transform(model.predict(temp)))\n",
        "\n"
      ],
      "execution_count": null,
      "outputs": []
    },
    {
      "cell_type": "code",
      "metadata": {
        "id": "ru4u1A3mTIz-"
      },
      "source": [
        "y=np.array(y)\n",
        "y=y.reshape(383,)\n",
        "temp=np.zeros((393,))\n",
        "temp[10:]=y\n",
        "y=temp"
      ],
      "execution_count": null,
      "outputs": []
    },
    {
      "cell_type": "code",
      "metadata": {
        "colab": {
          "base_uri": "https://localhost:8080/",
          "height": 293
        },
        "id": "3rBnbOKhU_hT",
        "outputId": "4458ccc6-f589-4d42-b21b-d1a686c9ebdd"
      },
      "source": [
        "plt.plot(datasetIN['Date'],y)\n",
        "plt.plot(datasetIN['Date'],X)"
      ],
      "execution_count": null,
      "outputs": [
        {
          "output_type": "execute_result",
          "data": {
            "text/plain": [
              "[<matplotlib.lines.Line2D at 0x7ff65e5ff690>]"
            ]
          },
          "metadata": {
            "tags": []
          },
          "execution_count": 73
        },
        {
          "output_type": "display_data",
          "data": {
            "image/png": "[encoded data removed]",
            "text/plain": [
              "<Figure size 432x288 with 1 Axes>"
            ]
          },
          "metadata": {
            "tags": [],
            "needs_background": "light"
          }
        }
      ]
    },
    {
      "cell_type": "code",
      "metadata": {
        "id": "GQ4dgYJjVRqH"
      },
      "source": [
        ""
      ],
      "execution_count": null,
      "outputs": []
    }
  ]
}